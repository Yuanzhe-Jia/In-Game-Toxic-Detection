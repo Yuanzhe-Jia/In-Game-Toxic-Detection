{
  "nbformat": 4,
  "nbformat_minor": 0,
  "metadata": {
    "colab": {
      "provenance": [],
      "toc_visible": true
    },
    "kernelspec": {
      "name": "python3",
      "display_name": "Python 3"
    },
    "accelerator": "GPU"
  },
  "cells": [
    {
      "cell_type": "markdown",
      "metadata": {
        "id": "tKEtDEnBbihp"
      },
      "source": [
        "# Proposed Model\n",
        "\n"
      ]
    },
    {
      "cell_type": "markdown",
      "metadata": {
        "id": "P6QUEMm70NZI"
      },
      "source": [
        "## Download Dataset"
      ]
    },
    {
      "cell_type": "code",
      "source": [
        "# load the label and caption data from google drive\n",
        "import pandas as pd\n",
        "from google.colab import drive\n",
        "drive.mount(\"/content/drive\")\n",
        "train_data = pd.read_csv(\"/content/drive/MyDrive/train.csv\")\n",
        "val_data = pd.read_csv(\"/content/drive/MyDrive/val.csv\")\n",
        "test_data = pd.read_csv(\"/content/drive/MyDrive/CONDA_test_original.csv\")"
      ],
      "metadata": {
        "colab": {
          "base_uri": "https://localhost:8080/"
        },
        "id": "0SYqGDMm7g_h",
        "outputId": "75f36e76-ba29-4f1d-b0de-19dac0d606c5"
      },
      "execution_count": null,
      "outputs": [
        {
          "output_type": "stream",
          "name": "stdout",
          "text": [
            "Mounted at /content/drive\n"
          ]
        }
      ]
    },
    {
      "cell_type": "code",
      "source": [
        "print(test_data.shape)\n",
        "test_data = test_data[[\"utterance\",\"slotClasses\"]]\n",
        "test_data.columns = [\"sents\", \"labels\"]\n",
        "test_data = test_data.dropna(axis=0, how=\"any\")\n",
        "print(test_data.shape)"
      ],
      "metadata": {
        "colab": {
          "base_uri": "https://localhost:8080/"
        },
        "id": "TAJl3w79pCx2",
        "outputId": "b27351ff-50db-4842-aa48-9f108f720bc4"
      },
      "execution_count": null,
      "outputs": [
        {
          "output_type": "stream",
          "name": "stdout",
          "text": [
            "(8974, 10)\n",
            "(8703, 2)\n"
          ]
        }
      ]
    },
    {
      "cell_type": "code",
      "source": [
        "test_data.head()"
      ],
      "metadata": {
        "colab": {
          "base_uri": "https://localhost:8080/",
          "height": 206
        },
        "id": "36-hoSCxq1nT",
        "outputId": "a8e736e0-68f3-448f-b51b-feedb9c63e32"
      },
      "execution_count": null,
      "outputs": [
        {
          "output_type": "execute_result",
          "data": {
            "text/plain": [
              "                                sents               labels\n",
              "0                                deff                   O \n",
              "1                                 sup                   S \n",
              "2  like I sad [SEPA] buy back to dead  O P O SEPA O S O T \n",
              "3                              hi aba                 O O \n",
              "4                              kiss u                 O P "
            ],
            "text/html": [
              "\n",
              "  <div id=\"df-b1a16613-23bc-4607-96ef-69a3f6478f23\">\n",
              "    <div class=\"colab-df-container\">\n",
              "      <div>\n",
              "<style scoped>\n",
              "    .dataframe tbody tr th:only-of-type {\n",
              "        vertical-align: middle;\n",
              "    }\n",
              "\n",
              "    .dataframe tbody tr th {\n",
              "        vertical-align: top;\n",
              "    }\n",
              "\n",
              "    .dataframe thead th {\n",
              "        text-align: right;\n",
              "    }\n",
              "</style>\n",
              "<table border=\"1\" class=\"dataframe\">\n",
              "  <thead>\n",
              "    <tr style=\"text-align: right;\">\n",
              "      <th></th>\n",
              "      <th>sents</th>\n",
              "      <th>labels</th>\n",
              "    </tr>\n",
              "  </thead>\n",
              "  <tbody>\n",
              "    <tr>\n",
              "      <th>0</th>\n",
              "      <td>deff</td>\n",
              "      <td>O</td>\n",
              "    </tr>\n",
              "    <tr>\n",
              "      <th>1</th>\n",
              "      <td>sup</td>\n",
              "      <td>S</td>\n",
              "    </tr>\n",
              "    <tr>\n",
              "      <th>2</th>\n",
              "      <td>like I sad [SEPA] buy back to dead</td>\n",
              "      <td>O P O SEPA O S O T</td>\n",
              "    </tr>\n",
              "    <tr>\n",
              "      <th>3</th>\n",
              "      <td>hi aba</td>\n",
              "      <td>O O</td>\n",
              "    </tr>\n",
              "    <tr>\n",
              "      <th>4</th>\n",
              "      <td>kiss u</td>\n",
              "      <td>O P</td>\n",
              "    </tr>\n",
              "  </tbody>\n",
              "</table>\n",
              "</div>\n",
              "      <button class=\"colab-df-convert\" onclick=\"convertToInteractive('df-b1a16613-23bc-4607-96ef-69a3f6478f23')\"\n",
              "              title=\"Convert this dataframe to an interactive table.\"\n",
              "              style=\"display:none;\">\n",
              "        \n",
              "  <svg xmlns=\"http://www.w3.org/2000/svg\" height=\"24px\"viewBox=\"0 0 24 24\"\n",
              "       width=\"24px\">\n",
              "    <path d=\"M0 0h24v24H0V0z\" fill=\"none\"/>\n",
              "    <path d=\"M18.56 5.44l.94 2.06.94-2.06 2.06-.94-2.06-.94-.94-2.06-.94 2.06-2.06.94zm-11 1L8.5 8.5l.94-2.06 2.06-.94-2.06-.94L8.5 2.5l-.94 2.06-2.06.94zm10 10l.94 2.06.94-2.06 2.06-.94-2.06-.94-.94-2.06-.94 2.06-2.06.94z\"/><path d=\"M17.41 7.96l-1.37-1.37c-.4-.4-.92-.59-1.43-.59-.52 0-1.04.2-1.43.59L10.3 9.45l-7.72 7.72c-.78.78-.78 2.05 0 2.83L4 21.41c.39.39.9.59 1.41.59.51 0 1.02-.2 1.41-.59l7.78-7.78 2.81-2.81c.8-.78.8-2.07 0-2.86zM5.41 20L4 18.59l7.72-7.72 1.47 1.35L5.41 20z\"/>\n",
              "  </svg>\n",
              "      </button>\n",
              "      \n",
              "  <style>\n",
              "    .colab-df-container {\n",
              "      display:flex;\n",
              "      flex-wrap:wrap;\n",
              "      gap: 12px;\n",
              "    }\n",
              "\n",
              "    .colab-df-convert {\n",
              "      background-color: #E8F0FE;\n",
              "      border: none;\n",
              "      border-radius: 50%;\n",
              "      cursor: pointer;\n",
              "      display: none;\n",
              "      fill: #1967D2;\n",
              "      height: 32px;\n",
              "      padding: 0 0 0 0;\n",
              "      width: 32px;\n",
              "    }\n",
              "\n",
              "    .colab-df-convert:hover {\n",
              "      background-color: #E2EBFA;\n",
              "      box-shadow: 0px 1px 2px rgba(60, 64, 67, 0.3), 0px 1px 3px 1px rgba(60, 64, 67, 0.15);\n",
              "      fill: #174EA6;\n",
              "    }\n",
              "\n",
              "    [theme=dark] .colab-df-convert {\n",
              "      background-color: #3B4455;\n",
              "      fill: #D2E3FC;\n",
              "    }\n",
              "\n",
              "    [theme=dark] .colab-df-convert:hover {\n",
              "      background-color: #434B5C;\n",
              "      box-shadow: 0px 1px 3px 1px rgba(0, 0, 0, 0.15);\n",
              "      filter: drop-shadow(0px 1px 2px rgba(0, 0, 0, 0.3));\n",
              "      fill: #FFFFFF;\n",
              "    }\n",
              "  </style>\n",
              "\n",
              "      <script>\n",
              "        const buttonEl =\n",
              "          document.querySelector('#df-b1a16613-23bc-4607-96ef-69a3f6478f23 button.colab-df-convert');\n",
              "        buttonEl.style.display =\n",
              "          google.colab.kernel.accessAllowed ? 'block' : 'none';\n",
              "\n",
              "        async function convertToInteractive(key) {\n",
              "          const element = document.querySelector('#df-b1a16613-23bc-4607-96ef-69a3f6478f23');\n",
              "          const dataTable =\n",
              "            await google.colab.kernel.invokeFunction('convertToInteractive',\n",
              "                                                     [key], {});\n",
              "          if (!dataTable) return;\n",
              "\n",
              "          const docLinkHtml = 'Like what you see? Visit the ' +\n",
              "            '<a target=\"_blank\" href=https://colab.research.google.com/notebooks/data_table.ipynb>data table notebook</a>'\n",
              "            + ' to learn more about interactive tables.';\n",
              "          element.innerHTML = '';\n",
              "          dataTable['output_type'] = 'display_data';\n",
              "          await google.colab.output.renderOutput(dataTable, element);\n",
              "          const docLink = document.createElement('div');\n",
              "          docLink.innerHTML = docLinkHtml;\n",
              "          element.appendChild(docLink);\n",
              "        }\n",
              "      </script>\n",
              "    </div>\n",
              "  </div>\n",
              "  "
            ]
          },
          "metadata": {},
          "execution_count": 5
        }
      ]
    },
    {
      "cell_type": "markdown",
      "metadata": {
        "id": "HBQkEN8M3GbG"
      },
      "source": [
        "## Data Pre-processing"
      ]
    },
    {
      "cell_type": "markdown",
      "source": [
        "### Tokenization"
      ],
      "metadata": {
        "id": "tIkH2--QCsHI"
      }
    },
    {
      "cell_type": "code",
      "source": [
        "import re\n",
        "import numpy as np\n",
        "import nltk\n",
        "nltk.download(\"punkt\")\n",
        "from nltk.tokenize import word_tokenize, TweetTokenizer\n",
        "tweet_tokenizer = TweetTokenizer()\n",
        "\n",
        "# define functions to implement data pre-processing\n",
        "def clean_str(x):\n",
        "    x = re.sub(r'[!#\\[\\]]', \"\", x.lower())\n",
        "    x = re.sub(r':+', \":\", x)\n",
        "    x = re.sub(r':d+', \":d\", x)\n",
        "    x = re.sub(r'\\d\\d:\\d\\d|\\d:\\d\\d|\\d\\d:\\d|\\d:\\d', \":d\", x)\n",
        "    x = re.sub(r':\\d|:\\D', \":d\", x)\n",
        "    x = re.sub(r'=+', \"=\", x)\n",
        "    x = re.sub(r'=\\d=|=\\D=|=\\d|=\\D', \":d\", x)\n",
        "    x = re.sub(r';_;|;-;|;_:|;\\d|;\\D', \":d\", x)\n",
        "    return x\n",
        "\n",
        "# if number of words and labels are not matched, drop out\n",
        "def clean_data(x_data, y_data):\n",
        "  x = []\n",
        "  y = []\n",
        "  for i in range(len(x_data)):\n",
        "    if len(x_data[i]) == len(y_data[i]):\n",
        "      x.append(x_data[i])\n",
        "      y.append(y_data[i])\n",
        "  return x, y\n"
      ],
      "metadata": {
        "colab": {
          "base_uri": "https://localhost:8080/"
        },
        "id": "5WJvZu0pMzpw",
        "outputId": "0a0d0017-ad9c-4195-a3de-910422a4676f"
      },
      "execution_count": null,
      "outputs": [
        {
          "output_type": "stream",
          "name": "stderr",
          "text": [
            "[nltk_data] Downloading package punkt to /root/nltk_data...\n",
            "[nltk_data]   Unzipping tokenizers/punkt.zip.\n"
          ]
        }
      ]
    },
    {
      "cell_type": "code",
      "source": [
        "# clean data, word tokenization\n",
        "# ==== train ====\n",
        "x_train = []\n",
        "for i in train_data[\"sents\"]:\n",
        "  x_train.append(tweet_tokenizer.tokenize(clean_str(i)))\n",
        "y_train = []\n",
        "for i in train_data[\"labels\"]:\n",
        "  y_train.append(word_tokenize(i))\n",
        "\n",
        "x_train, y_train = clean_data(x_train, y_train)\n",
        "print(len(x_train), x_train[:10])\n",
        "print(len(y_train), y_train[:10])\n",
        "print()\n",
        "\n",
        "# ==== validation ====\n",
        "x_val = []\n",
        "for i in val_data[\"sents\"]:\n",
        "  x_val.append(tweet_tokenizer.tokenize(clean_str(i)))\n",
        "y_val = []\n",
        "for i in val_data[\"labels\"]:\n",
        "  y_val.append(word_tokenize(i))\n",
        "\n",
        "x_val, y_val = clean_data(x_val, y_val)\n",
        "print(len(x_val), x_val[:10])\n",
        "print(len(y_val), y_val[:10])\n",
        "print()\n",
        "\n",
        "# ==== test ====\n",
        "x_test = []\n",
        "for i in test_data[\"sents\"]:\n",
        "  x_test.append(tweet_tokenizer.tokenize(clean_str(i)))\n",
        "y_test = []\n",
        "for i in test_data[\"labels\"]:\n",
        "  y_test.append(word_tokenize(i))\n",
        "\n",
        "x_test, y_test = clean_data(x_test, y_test)\n",
        "print(len(x_test), x_test[:10])\n",
        "print(len(y_test), y_test[:10])\n",
        "\n",
        "\"\"\"\n",
        "# check if the number of words meets the requirement\n",
        "count = 0\n",
        "for i in x_test:\n",
        "  count = count + len(i)\n",
        "print(\"number of words in x_test:\", count)\n",
        "\"\"\""
      ],
      "metadata": {
        "colab": {
          "base_uri": "https://localhost:8080/",
          "height": 211
        },
        "id": "J0QD6sMtjCYn",
        "outputId": "aac6455e-d0b1-45f2-d053-5d28ddc619f4"
      },
      "execution_count": null,
      "outputs": [
        {
          "output_type": "stream",
          "name": "stdout",
          "text": [
            "26007 [['wow'], ['wtf'], ['wpe', 'wpe'], ['hahaha'], ['wtf'], ['i', 'cant', 'sepa', 'play', 'sepa', 'with', '4', 'trash'], ['bg'], ['error'], ['gg', 'sepa', 'report', 'my', 'team', 'rat', 'sepa', 'please'], ['ez', 'mid']]\n",
            "26007 [['O'], ['T'], ['O', 'O'], ['O'], ['T'], ['P', 'O', 'SEPA', 'O', 'SEPA', 'O', 'O', 'O'], ['O'], ['O'], ['S', 'SEPA', 'S', 'P', 'O', 'S', 'SEPA', 'O'], ['S', 'S']]\n",
            "\n",
            "8683 [['gg'], ['gg'], ['gg', 'sepa', 'nice', 'late', 'game'], ['fuk'], [':d'], ['yea', 'i', 'know'], ['are', 'you', 'talking', 'smack'], ['ty'], ['retard', 'ss', 'sepa', 'reported'], ['repot', 'him', 'sepa', 'report', 'omni', 'please']]\n",
            "8683 [['S'], ['S'], ['S', 'SEPA', 'O', 'O', 'O'], ['T'], ['O'], ['O', 'P', 'O'], ['O', 'P', 'O', 'T'], ['O'], ['T', 'C', 'SEPA', 'O'], ['O', 'P', 'SEPA', 'S', 'C', 'O']]\n",
            "\n",
            "7445 [['deff'], ['sup'], ['like', 'i', 'sad', 'sepa', 'buy', 'back', 'to', 'dead'], ['hi', 'aba'], ['kiss', 'u'], ['gg'], ['ggwp', 'sepa', 'commend'], ['wp'], ['savr'], ['gg']]\n",
            "7445 [['O'], ['S'], ['O', 'P', 'O', 'SEPA', 'O', 'S', 'O', 'T'], ['O', 'O'], ['O', 'P'], ['S'], ['S', 'SEPA', 'O'], ['S'], ['O'], ['S']]\n"
          ]
        },
        {
          "output_type": "execute_result",
          "data": {
            "text/plain": [
              "'\\n# check if the number of words meets the requirement\\ncount = 0\\nfor i in x_test:\\n  count = count + len(i)\\nprint(\"number of words in x_test:\", count)\\n'"
            ],
            "application/vnd.google.colaboratory.intrinsic+json": {
              "type": "string"
            }
          },
          "metadata": {},
          "execution_count": 7
        }
      ]
    },
    {
      "cell_type": "markdown",
      "metadata": {
        "id": "2cCqGvJchOdR"
      },
      "source": [
        "### Generate word_to_ix and tag_to_ix"
      ]
    },
    {
      "cell_type": "code",
      "metadata": {
        "id": "1MWAK0NV3INF",
        "colab": {
          "base_uri": "https://localhost:8080/"
        },
        "outputId": "fb6aa065-c400-4ba7-9d35-19cb776eed38"
      },
      "source": [
        "word_to_ix = {}\n",
        "for sentence in x_train + x_val + x_test:\n",
        "    for word in sentence:\n",
        "        word = word.lower()\n",
        "        if word not in word_to_ix:\n",
        "            word_to_ix[word] = len(word_to_ix)\n",
        "word_list = list(word_to_ix.keys())\n",
        "ix_to_word = {idx: w for idx, w in enumerate(word_list)}\n",
        "print(len(word_list), word_list[:10])\n",
        "# print(len(word_to_ix), word_to_ix)\n",
        "# print(len(ix_to_word), ix_to_word)\n",
        "\n",
        "START_TAG = \"<START>\"\n",
        "STOP_TAG = \"<STOP>\"\n",
        "tag_to_ix = {START_TAG:0, STOP_TAG:1}\n",
        "for tags in y_train + y_val + y_test:\n",
        "    for tag in tags:\n",
        "        if tag not in tag_to_ix:\n",
        "            tag_to_ix[tag] = len(tag_to_ix)\n",
        "print(len(tag_to_ix), tag_to_ix)\n"
      ],
      "execution_count": null,
      "outputs": [
        {
          "output_type": "stream",
          "name": "stdout",
          "text": [
            "12279 ['wow', 'wtf', 'wpe', 'hahaha', 'i', 'cant', 'sepa', 'play', 'with', '4']\n",
            "9 {'<START>': 0, '<STOP>': 1, 'O': 2, 'T': 3, 'P': 4, 'SEPA': 5, 'S': 6, 'D': 7, 'C': 8}\n"
          ]
        }
      ]
    },
    {
      "cell_type": "markdown",
      "metadata": {
        "id": "GEswz2QjhXBM"
      },
      "source": [
        "### Generate Embedding Matrix"
      ]
    },
    {
      "cell_type": "code",
      "source": [
        "# self-trained word embedding model\n",
        "sentences = np.concatenate((x_train, x_val, x_test), 0)\n",
        "\n",
        "from gensim.models import Word2Vec, FastText\n",
        "w2v_model = FastText(sentences=sentences, size=50, window=1, min_count=0, workers=2, sg=0)\n",
        "\n",
        "# word embeddings\n",
        "import warnings\n",
        "warnings.filterwarnings(\"ignore\")\n",
        "\n",
        "w2v_embed_matrix = []\n",
        "for i, word in enumerate(word_list):\n",
        "    if word in w2v_model:\n",
        "        w2v_embed_matrix.append(w2v_model[word])\n",
        "    else:\n",
        "        w2v_embed_matrix.append([0] * w2v_model.vector_size)\n",
        "\n",
        "w2v_embed_matrix = np.array(w2v_embed_matrix)\n",
        "print(\"w2v_embed_matrix:\", w2v_embed_matrix.shape)\n"
      ],
      "metadata": {
        "id": "tkTeDT5tQ9Cw",
        "colab": {
          "base_uri": "https://localhost:8080/"
        },
        "outputId": "2e2f66b9-0f8a-4870-dfd2-634d5beb62b5"
      },
      "execution_count": null,
      "outputs": [
        {
          "output_type": "stream",
          "name": "stderr",
          "text": [
            "<string>:6: VisibleDeprecationWarning: Creating an ndarray from ragged nested sequences (which is a list-or-tuple of lists-or-tuples-or ndarrays with different lengths or shapes) is deprecated. If you meant to do this, you must specify 'dtype=object' when creating the ndarray.\n",
            "WARNING:gensim.models.base_any2vec:consider setting layer size to a multiple of 4 for greater performance\n"
          ]
        },
        {
          "output_type": "stream",
          "name": "stdout",
          "text": [
            "w2v_embed_matrix: (12279, 50)\n"
          ]
        }
      ]
    },
    {
      "cell_type": "markdown",
      "metadata": {
        "id": "wlchZJO8hdXa"
      },
      "source": [
        "### Convert Dataset into idxs"
      ]
    },
    {
      "cell_type": "code",
      "metadata": {
        "id": "fRs6mouFwEx4"
      },
      "source": [
        "def to_index(data, to_ix):\n",
        "    input_index_list = []\n",
        "    for sent in data:\n",
        "        input_index_list.append([to_ix[w] for w in sent])\n",
        "    return input_index_list\n",
        "\n",
        "train_input_index = to_index(x_train, word_to_ix)\n",
        "train_output_index = to_index(y_train, tag_to_ix)\n",
        "val_input_index = to_index(x_val, word_to_ix)\n",
        "val_output_index = to_index(y_val, tag_to_ix)\n",
        "test_input_index = to_index(x_test, word_to_ix)\n",
        "test_output_index = to_index(y_test, tag_to_ix)\n",
        "\n",
        "# print(train_input_index[:10])\n",
        "# print(train_output_index[:10])\n",
        "# print(val_input_index[:10])\n",
        "# print(val_output_index[:10])\n",
        "# print(test_input_index[:10])\n",
        "# print(test_output_index[:10])"
      ],
      "execution_count": null,
      "outputs": []
    },
    {
      "cell_type": "markdown",
      "source": [
        "## Proposed Model"
      ],
      "metadata": {
        "id": "ZhQG91bhcYY0"
      }
    },
    {
      "cell_type": "markdown",
      "source": [
        "### Label Forcing"
      ],
      "metadata": {
        "id": "Bv01IIHPcaGX"
      }
    },
    {
      "cell_type": "code",
      "source": [
        "import torch\n",
        "import torch.nn.functional as F\n",
        "\n",
        "def get_lf_prob(x_train_list, y_train_list):\n",
        "  word_label_cnt = []\n",
        "  for ix in range(len(word_list)):\n",
        "    cnt = {}\n",
        "    for i in range(len(x_train_list)):\n",
        "      if x_train_list[i] == ix:\n",
        "        cnt[y_train_list[i]] = cnt.get(y_train_list[i], 0) + 1\n",
        "    cnt = sorted(cnt.items(), key = lambda x:x[1], reverse=True)\n",
        "    word_label_cnt.append(cnt)\n",
        "\n",
        "  lf_prob = torch.zeros(len(word_label_cnt), len(tag_to_ix))\n",
        "  for i in range(len(word_label_cnt)):\n",
        "    for j in word_label_cnt[i]:\n",
        "      lf_prob[i][j[0]] = j[1]\n",
        "  lf_prob = F.softmax(lf_prob, dim=1)\n",
        "  return lf_prob\n",
        "\n",
        "\"\"\"\n",
        "# get each element from training set\n",
        "x_train_list = []\n",
        "for i in train_input_index:\n",
        "  for j in i:\n",
        "    x_train_list.append(j)\n",
        "\n",
        "y_train_list = []\n",
        "for i in train_output_index:\n",
        "  for j in i:\n",
        "    y_train_list.append(j)\n",
        "\n",
        "print(\"train words:\", len(x_train_list), len(y_train_list))\n",
        "lf_prob_train = get_lf_prob(x_train_list, y_train_list)\n",
        "print(lf_prob_train.size())\n",
        "\"\"\"\n",
        "\n",
        "# get each element from training set + validation set\n",
        "x_train_list = []\n",
        "for i in train_input_index + val_input_index:\n",
        "  for j in i:\n",
        "    x_train_list.append(j)\n",
        "\n",
        "y_train_list = []\n",
        "for i in train_output_index + val_output_index:\n",
        "  for j in i:\n",
        "    y_train_list.append(j)\n",
        "\n",
        "print(\"train + val words:\", len(x_train_list), len(y_train_list))\n",
        "lf_prob_train_val = get_lf_prob(x_train_list, y_train_list)\n",
        "print(lf_prob_train_val.size())\n"
      ],
      "metadata": {
        "colab": {
          "base_uri": "https://localhost:8080/"
        },
        "id": "WfEHBnB2cai7",
        "outputId": "3498e675-d0b8-4c0f-aae7-21339d81817f"
      },
      "execution_count": null,
      "outputs": [
        {
          "output_type": "stream",
          "name": "stdout",
          "text": [
            "train + val words: 132350 132350\n",
            "torch.Size([12279, 9])\n"
          ]
        }
      ]
    },
    {
      "cell_type": "markdown",
      "source": [
        "### Model Initialization"
      ],
      "metadata": {
        "id": "feIOIuowc9QF"
      }
    },
    {
      "cell_type": "code",
      "source": [
        "import torch\n",
        "import torch.autograd as autograd\n",
        "import torch.nn as nn\n",
        "import torch.optim as optim\n",
        "from sklearn.metrics import accuracy_score, f1_score\n",
        "import numpy as np\n",
        "torch.manual_seed(1)\n",
        "\n",
        "############################ Function Defination ############################\n",
        "\n",
        "def argmax(vec):\n",
        "    # return the argmax as a python int\n",
        "    _, idx = torch.max(vec, 1)\n",
        "    return idx.item()\n",
        "\n",
        "\n",
        "# compute log sum exp in a numerically stable way for the forward algorithm\n",
        "def log_sum_exp(vec):\n",
        "    max_score = vec[0, argmax(vec)]\n",
        "    max_score_broadcast = max_score.view(1, -1).expand(1, vec.size()[1])\n",
        "    return max_score + \\\n",
        "        torch.log(torch.sum(torch.exp(vec - max_score_broadcast)))\n",
        "\n",
        "\n",
        "# evaluation metrics\n",
        "def cal_acc(model, input_index, output_index):\n",
        "\n",
        "    predictions = []\n",
        "    for i in range(len(input_index)):\n",
        "        torch_input = torch.tensor(input_index[i], dtype=torch.long).to(device)\n",
        "        torch_pred = model(torch_input)\n",
        "\n",
        "        for j in torch_pred:\n",
        "            predictions.append(j)\n",
        "\n",
        "    ground_truth = []\n",
        "    for i in output_index:\n",
        "        for j in i:\n",
        "            ground_truth.append(j)\n",
        "\n",
        "    count = 0\n",
        "    for i in range(len(predictions)):\n",
        "        if predictions[i] == ground_truth[i]:\n",
        "            count += 1\n",
        "    accuracy = count / len(predictions)\n",
        "    return predictions, ground_truth, accuracy\n",
        "\n",
        "\n",
        "# decode index to labels\n",
        "def decode_output(output_list):\n",
        "    ix_to_tag = {v:k for k,v in tag_to_ix.items()}\n",
        "    return [ix_to_tag[output] for output in output_list]\n",
        "\n",
        "\n",
        "############################ Model Defination ############################\n",
        "\n",
        "\n",
        "class BRAR(nn.Module):\n",
        "\n",
        "    def __init__(self, vocab_size, tag_to_ix, embedding_dim, embedding_matrix, hidden_dim, n_layers, attn_method, lf_prob):\n",
        "        super(BRAR, self).__init__()\n",
        "        self.vocab_size = vocab_size # embedding\n",
        "        self.tag_to_ix = tag_to_ix\n",
        "        self.tagset_size = len(tag_to_ix)\n",
        "        self.embedding_dim = embedding_dim # BiLSTM\n",
        "        self.hidden_dim = hidden_dim\n",
        "        self.n_layers = n_layers\n",
        "        self.attn_method = attn_method # attention\n",
        "        self.lf_prob = lf_prob.to(device) # LF\n",
        "\n",
        "        # use the embedding matrix as the initial weights of nn.Embedding\n",
        "        self.word_embeds = nn.Embedding(vocab_size, embedding_dim)\n",
        "        self.word_embeds.weight.data.copy_(torch.from_numpy(embedding_matrix))\n",
        "\n",
        "        # define BiLSTM\n",
        "        self.lstm = nn.LSTM(input_size=embedding_dim, hidden_size=hidden_dim//2,\n",
        "                            num_layers=n_layers, bidirectional=True)\n",
        "\n",
        "        # intialise weights of the attention mechanism\n",
        "        self.attn_weight = nn.Parameter(torch.zeros(1)).to(device)\n",
        "        self.general_weights = nn.Parameter(torch.randn(1, self.hidden_dim, self.hidden_dim)).to(device)\n",
        "        self.location_weights = nn.Parameter(torch.randn(1, self.hidden_dim, 1)).to(device)\n",
        "\n",
        "        # define fully-connected layer\n",
        "        self.hidden2tag = nn.Linear(hidden_dim, self.tagset_size)\n",
        "        self.hidden = self.init_hidden()\n",
        "\n",
        "        # never transfer to the start tag and we never transfer from the stop tag\n",
        "        self.transitions = nn.Parameter(torch.randn(self.tagset_size, self.tagset_size))\n",
        "        self.transitions.data[tag_to_ix[START_TAG], :] = -10000\n",
        "        self.transitions.data[:, tag_to_ix[STOP_TAG]] = -10000\n",
        "\n",
        "\n",
        "    def init_hidden(self):\n",
        "        return (torch.randn(2*self.n_layers, 1, self.hidden_dim // 2).to(device),\n",
        "                torch.randn(2*self.n_layers, 1, self.hidden_dim // 2).to(device))\n",
        "\n",
        "    def _forward_alg(self, feats):\n",
        "        # forward algorithm to compute the partition function\n",
        "        init_alphas = torch.full((1, self.tagset_size), -10000.).to(device)\n",
        "        init_alphas[0][self.tag_to_ix[START_TAG]] = 0.\n",
        "\n",
        "        # wrap in a variable so that we will get automatic backprop\n",
        "        forward_var = init_alphas\n",
        "\n",
        "        # iterate through the sentence\n",
        "        for feat in feats:\n",
        "            alphas_t = []  # The forward tensors at this timestep\n",
        "            for next_tag in range(self.tagset_size):\n",
        "\n",
        "                emit_score = feat[next_tag].view(1, -1).expand(1, self.tagset_size)\n",
        "                trans_score = self.transitions[next_tag].view(1, -1)\n",
        "                next_tag_var = forward_var + trans_score + emit_score\n",
        "                alphas_t.append(log_sum_exp(next_tag_var).view(1))\n",
        "\n",
        "            forward_var = torch.cat(alphas_t).view(1, -1)\n",
        "\n",
        "        terminal_var = forward_var + self.transitions[self.tag_to_ix[STOP_TAG]]\n",
        "        alpha = log_sum_exp(terminal_var)\n",
        "        return alpha\n",
        "\n",
        "    def attention(self, lstm_out, final_state):\n",
        "\n",
        "        if self.attn_method == \"dot_product\":\n",
        "\n",
        "          # final_hidden = (batch=1, hidden_size*2=10, 1)\n",
        "          final_hidden = final_state.view(-1, self.hidden_dim, 1)\n",
        "\n",
        "          # attn_weights = (1,8,10)*(1,10,1) -> (1,8,1) -> seueeze(2) -> (batch=1, seq_len=8)\n",
        "          attn_weights = torch.bmm(lstm_out, final_hidden).squeeze(2)\n",
        "          # soft_attn_weights = (1,8)\n",
        "          soft_attn_weights = F.softmax(attn_weights, 1)\n",
        "\n",
        "          # attn_out = (1,10,8)*(1,8,1) -> (1,10,1) -> sequeeze(2) -> (batch=1, hidden_size*2=10)\n",
        "          attn_out = torch.bmm(lstm_out.transpose(1, 2), soft_attn_weights.unsqueeze(2)).squeeze(2)\n",
        "\n",
        "        elif self.attn_method == \"scaled_dot_product\":\n",
        "\n",
        "          final_hidden = final_state.view(-1, self.hidden_dim, 1)\n",
        "          attn_weights = (torch.bmm(lstm_out, final_hidden) / np.sqrt(self.hidden_dim)).squeeze(2)\n",
        "          soft_attn_weights = F.softmax(attn_weights, 1)\n",
        "          attn_out = torch.bmm(lstm_out.transpose(1, 2), soft_attn_weights.unsqueeze(2)).squeeze(2)\n",
        "\n",
        "        elif self.attn_method == \"general\":\n",
        "\n",
        "          final_hidden = final_state.view(-1, self.hidden_dim, 1)\n",
        "          attn_weights = torch.bmm(torch.bmm(lstm_out, self.general_weights), final_hidden).squeeze(2)\n",
        "          soft_attn_weights = F.softmax(attn_weights, 1)\n",
        "          attn_out = torch.bmm(lstm_out.transpose(1, 2), soft_attn_weights.unsqueeze(2)).squeeze(2)\n",
        "\n",
        "        elif self.attn_method == \"location_based\":\n",
        "\n",
        "          final_hidden = final_state.view(-1, self.hidden_dim, 1)\n",
        "          attn_weights = torch.bmm(lstm_out, self.location_weights).squeeze(2)\n",
        "          soft_attn_weights = F.softmax(attn_weights, 1)\n",
        "          attn_out = torch.bmm(lstm_out.transpose(1, 2), soft_attn_weights.unsqueeze(2)).squeeze(2)\n",
        "\n",
        "        else:\n",
        "          attn_out = torch.zeros(1).to(device)\n",
        "        return attn_out\n",
        "\n",
        "    def _get_lstm_features(self, sentence):\n",
        "        self.hidden = self.init_hidden()\n",
        "\n",
        "        # embeds = (seq_len=8, batch=1, embedding_dim=50)\n",
        "        embeds = self.word_embeds(sentence).view(len(sentence), 1, -1)\n",
        "\n",
        "        # lstm_out = (seq_len=8, batch=1, hidden_size*2=10)\n",
        "        # h_n, c_n = (n_layer=2, batch=1, hidden_size=5)\n",
        "        lstm_out, self.hidden = self.lstm(embeds, self.hidden)\n",
        "\n",
        "        # lstm_out = (batch=1, seq_len=8, hidden_size*2=10)\n",
        "        lstm_out = lstm_out.permute(1, 0, 2)\n",
        "\n",
        "        # attn_out = (batch=1, hidden_size*2=10)\n",
        "        attn_out = self.attention(lstm_out, self.hidden[0])\n",
        "\n",
        "        # lstm_out.shape = (seq_len=8, hidden_size*2=10)\n",
        "        lstm_out = lstm_out.view(len(sentence), self.hidden_dim)\n",
        "\n",
        "        # res_out.shape = (seq_len=8, hidden_size*2=10) ![important] take attn_out as residual\n",
        "        res_out = lstm_out + attn_out * self.attn_weight\n",
        "\n",
        "        # output.shape = (seq_len=8, tagset_size=9)\n",
        "        output = self.hidden2tag(res_out)\n",
        "        return output\n",
        "\n",
        "    def _score_sentence(self, feats, tags):\n",
        "        # gives the score of a provided tag sequence\n",
        "        score = torch.zeros(1).to(device)\n",
        "        tags = torch.cat([torch.tensor([self.tag_to_ix[START_TAG]], dtype=torch.long).to(device), tags])\n",
        "        for i, feat in enumerate(feats):\n",
        "            score = score + \\\n",
        "                self.transitions[tags[i + 1], tags[i]] + feat[tags[i + 1]]\n",
        "        score = score + self.transitions[self.tag_to_ix[STOP_TAG], tags[-1]]\n",
        "        return score\n",
        "\n",
        "    def _viterbi_decode(self, feats):\n",
        "        backpointers = []\n",
        "\n",
        "        # initialize the viterbi variables in log space\n",
        "        init_vvars = torch.full((1, self.tagset_size), -10000.).to(device)\n",
        "        init_vvars[0][self.tag_to_ix[START_TAG]] = 0\n",
        "\n",
        "        # forward_var at step i holds the viterbi variables for step i-1\n",
        "        forward_var = init_vvars\n",
        "        for feat in feats:\n",
        "            bptrs_t = []  # holds the backpointers for this step\n",
        "            viterbivars_t = []  # holds the viterbi variables for this step\n",
        "\n",
        "            for next_tag in range(self.tagset_size):\n",
        "\n",
        "                next_tag_var = forward_var + self.transitions[next_tag]\n",
        "                best_tag_id = argmax(next_tag_var)\n",
        "                bptrs_t.append(best_tag_id)\n",
        "                viterbivars_t.append(next_tag_var[0][best_tag_id].view(1))\n",
        "\n",
        "            forward_var = (torch.cat(viterbivars_t) + feat).view(1, -1)\n",
        "            backpointers.append(bptrs_t)\n",
        "\n",
        "        # transition to stop tag\n",
        "        terminal_var = forward_var + self.transitions[self.tag_to_ix[STOP_TAG]]\n",
        "        best_tag_id = argmax(terminal_var)\n",
        "        path_score = terminal_var[0][best_tag_id]\n",
        "\n",
        "        # follow the back pointers to decode the best path\n",
        "        best_path = [best_tag_id]\n",
        "        for bptrs_t in reversed(backpointers):\n",
        "            best_tag_id = bptrs_t[best_tag_id]\n",
        "            best_path.append(best_tag_id)\n",
        "\n",
        "        # pop off the start tag, we dont want to return that to the caller\n",
        "        start = best_path.pop()\n",
        "        assert start == self.tag_to_ix[START_TAG] # sanity check\n",
        "        best_path.reverse()\n",
        "        return path_score, best_path\n",
        "\n",
        "    def neg_log_likelihood(self, sentence, tags):\n",
        "        feats = self._get_lstm_features(sentence)\n",
        "        forward_score = self._forward_alg(feats)\n",
        "        gold_score = self._score_sentence(feats, tags)\n",
        "        return forward_score - gold_score\n",
        "\n",
        "    def forward(self, sentence):\n",
        "        # get emission probability\n",
        "        emi_prob = self._get_lstm_features(sentence)\n",
        "        emi_prob = emi_prob + self.lf_prob[sentence].view(-1, self.tagset_size) # ![important] label forcing\n",
        "\n",
        "        # find the best path, given the features\n",
        "        score, tag_seq = self._viterbi_decode(emi_prob)\n",
        "        return tag_seq\n"
      ],
      "metadata": {
        "id": "Vm_sur_sc9pJ"
      },
      "execution_count": null,
      "outputs": []
    },
    {
      "cell_type": "markdown",
      "source": [
        "### Testing Results"
      ],
      "metadata": {
        "id": "-29QU7gLdArJ"
      }
    },
    {
      "cell_type": "code",
      "source": [
        "\n",
        "############################ Create A New Model ############################\n",
        "\n",
        "# hyper-parameters\n",
        "EMBEDDING_DIM = w2v_embed_matrix.shape[1]\n",
        "EMBEDDINGS = w2v_embed_matrix\n",
        "HIDDEN_DIM = 10\n",
        "N_LAYERS = 1\n",
        "ATTN_METHOD = \"general\"\n",
        "LF_PROB = lf_prob_train_val\n",
        "device = torch.device(\"cuda\" if torch.cuda.is_available() else \"cpu\")\n",
        "\n",
        "model = BRAR(len(word_to_ix), tag_to_ix, EMBEDDING_DIM, EMBEDDINGS, HIDDEN_DIM, N_LAYERS, ATTN_METHOD, LF_PROB).to(device)\n",
        "optimizer = optim.SGD(model.parameters(), lr=0.1, weight_decay=1e-4) # SGD with lr of 0.1 is better\n",
        "\n",
        "\n",
        "############################ Model Training Part ############################\n",
        "\n",
        "\n",
        "import datetime\n",
        "for epoch in range(2):\n",
        "    time1 = datetime.datetime.now()\n",
        "    train_loss = 0\n",
        "\n",
        "    model.train()\n",
        "    for i, idxs in enumerate((train_input_index + val_input_index)):\n",
        "        tags_index = (train_output_index + val_output_index)[i]\n",
        "        sentence_in = torch.tensor(idxs, dtype=torch.long).to(device)\n",
        "        targets = torch.tensor(tags_index, dtype=torch.long).to(device)\n",
        "\n",
        "        model.zero_grad()\n",
        "        loss = model.neg_log_likelihood(sentence_in, targets)\n",
        "        loss.backward()\n",
        "        optimizer.step()\n",
        "        train_loss += loss.item()\n",
        "\n",
        "    model.eval()\n",
        "    # call the cal_acc functions\n",
        "    _, _, train_acc = cal_acc(model, train_input_index, train_output_index)\n",
        "    _, _, val_acc = cal_acc(model, val_input_index, val_output_index)\n",
        "\n",
        "    time2 = datetime.datetime.now()\n",
        "\n",
        "    print(\"epoch: {:} // train acc: {:.2f}% // val acc: {:.2f}% // time: {:.2f}s.\".\n",
        "          format(epoch+1, train_acc*100, val_acc*100, (time2-time1).total_seconds()))\n"
      ],
      "metadata": {
        "colab": {
          "base_uri": "https://localhost:8080/"
        },
        "id": "4S5bX-_8dBDH",
        "outputId": "e779643f-f19f-41c4-d5a5-fe771fc69963"
      },
      "execution_count": null,
      "outputs": [
        {
          "output_type": "stream",
          "name": "stdout",
          "text": [
            "epoch: 1 // train acc: 99.94% // val acc: 100.00% // time: 685.52s.\n",
            "epoch: 2 // train acc: 100.00% // val acc: 100.00% // time: 668.39s.\n"
          ]
        }
      ]
    },
    {
      "cell_type": "code",
      "source": [
        "from sklearn.metrics import f1_score, classification_report\n",
        "\n",
        "test_y_pred, test_y_truth, _ = cal_acc(model, test_input_index, test_output_index)\n",
        "\n",
        "# calcualte overall F1 without label \"O\"\n",
        "y_truth_new = np.array([test_y_truth[i] for i in range(len(test_y_pred)) if (test_y_pred[i] != 2) & (test_y_truth[i] != 2)])\n",
        "y_pred_new = np.array([test_y_pred[i] for i in range(len(test_y_pred)) if (test_y_pred[i] != 2) & (test_y_truth[i] != 2)])\n",
        "print(\"overall f1-score \", round(f1_score(y_truth_new, y_pred_new, average=\"micro\"), 4))\n",
        "\n",
        "print(\"-\"*54)\n",
        "\n",
        "# calculate F1 scores for T P S D C O\n",
        "target_names = [\"T\", \"P\", \"SEPA\", \"S\", \"D\", \"C\", \"O\"]\n",
        "print(classification_report(np.array(test_y_truth), np.array(test_y_pred), labels=[3, 4, 5, 6, 7, 8, 2], target_names=target_names, digits=4))"
      ],
      "metadata": {
        "colab": {
          "base_uri": "https://localhost:8080/"
        },
        "id": "SmWT2sTb02lp",
        "outputId": "20fc9a83-d536-42b6-9844-b9c7684689c9"
      },
      "execution_count": null,
      "outputs": [
        {
          "output_type": "stream",
          "name": "stdout",
          "text": [
            "overall f1-score  0.9995\n",
            "------------------------------------------------------\n",
            "              precision    recall  f1-score   support\n",
            "\n",
            "           T     0.9992    0.9739    0.9864      1263\n",
            "           P     0.9966    0.9912    0.9939      2955\n",
            "        SEPA     0.9970    0.9966    0.9968      2669\n",
            "           S     0.9983    0.9892    0.9937      2968\n",
            "           D     0.9967    0.9650    0.9806       314\n",
            "           C     0.9992    0.9808    0.9899      1299\n",
            "           O     0.9913    0.9987    0.9950     14891\n",
            "\n",
            "    accuracy                         0.9941     26359\n",
            "   macro avg     0.9969    0.9850    0.9909     26359\n",
            "weighted avg     0.9941    0.9941    0.9941     26359\n",
            "\n"
          ]
        }
      ]
    }
  ]
}
